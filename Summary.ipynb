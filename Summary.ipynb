{
 "cells": [
  {
   "cell_type": "code",
   "execution_count": null,
   "metadata": {},
   "outputs": [
    {
     "name": "stderr",
     "output_type": "stream",
     "text": [
      "You are using the default legacy behaviour of the <class 'transformers.models.t5.tokenization_t5.T5Tokenizer'>. This is expected, and simply means that the `legacy` (previous) behavior will be used so nothing changes for you. If you want to use the new behaviour, set `legacy=False`. This should only be set if you understand what it means, and thoroughly read the reason why this was added as explained in https://github.com/huggingface/transformers/pull/24565\n",
      "c:\\Users\\Lenovo\\AppData\\Local\\Programs\\Python\\Python311\\Lib\\site-packages\\torch\\_utils.py:831: UserWarning: TypedStorage is deprecated. It will be removed in the future and UntypedStorage will be the only storage class. This should only matter to you if you are using storages directly.  To access UntypedStorage directly, use tensor.untyped_storage() instead of tensor.storage()\n",
      "  return self.fget.__get__(instance, owner)()\n"
     ]
    },
    {
     "data": {
      "application/vnd.jupyter.widget-view+json": {
       "model_id": "aadd5ff6807b46c5b75ae07abb91b7a2",
       "version_major": 2,
       "version_minor": 0
      },
      "text/plain": [
       "Generating train split: 0 examples [00:00, ? examples/s]"
      ]
     },
     "metadata": {},
     "output_type": "display_data"
    },
    {
     "data": {
      "application/vnd.jupyter.widget-view+json": {
       "model_id": "06e1ce5d751a41858ef8102c558071fe",
       "version_major": 2,
       "version_minor": 0
      },
      "text/plain": [
       "Map:   0%|          | 0/131 [00:00<?, ? examples/s]"
      ]
     },
     "metadata": {},
     "output_type": "display_data"
    },
    {
     "name": "stdout",
     "output_type": "stream",
     "text": [
      "Train dataset: 104 samples\n",
      "Test dataset: 27 samples\n",
      "Epoch 1/3\n"
     ]
    },
    {
     "name": "stderr",
     "output_type": "stream",
     "text": [
      "c:\\Users\\Lenovo\\AppData\\Local\\Programs\\Python\\Python311\\Lib\\site-packages\\transformers\\optimization.py:591: FutureWarning: This implementation of AdamW is deprecated and will be removed in a future version. Use the PyTorch implementation torch.optim.AdamW instead, or set `no_deprecation_warning=True` to disable this warning\n",
      "  warnings.warn(\n",
      "Passing a tuple of `past_key_values` is deprecated and will be removed in Transformers v4.48.0. You should pass an instance of `EncoderDecoderCache` instead, e.g. `past_key_values=EncoderDecoderCache.from_legacy_cache(past_key_values)`.\n"
     ]
    },
    {
     "name": "stdout",
     "output_type": "stream",
     "text": [
      "Train Loss: 3.6777638288644643\n",
      "Eval Loss: 3.2946799993515015\n",
      "Epoch 2/3\n"
     ]
    }
   ],
   "source": [
    "from datasets import load_dataset\n",
    "from sklearn.model_selection import train_test_split\n",
    "from transformers import T5Tokenizer, T5ForConditionalGeneration\n",
    "import torch\n",
    "from torch.utils.data import DataLoader\n",
    "\n",
    "tokenizer = T5Tokenizer.from_pretrained(\"panggi/t5-base-indonesian-summarization-cased\")\n",
    "model = T5ForConditionalGeneration.from_pretrained(\"panggi/t5-base-indonesian-summarization-cased\")\n",
    "\n",
    "dataset = load_dataset('csv', data_files='./data/summarize.csv', delimiter=';')\n",
    "\n",
    "def preprocess_function(examples):\n",
    "    inputs = [\"summarize: \" + doc for doc in examples[\"input\"]]\n",
    "    outputs = examples[\"output\"]\n",
    "    \n",
    "    model_inputs = tokenizer(inputs, max_length=512, truncation=True, padding=\"max_length\")\n",
    "    labels = tokenizer(outputs, max_length=128, truncation=True, padding=\"max_length\")\n",
    "\n",
    "    if labels[\"input_ids\"] is None:\n",
    "        print(\"Error: Labels are None\")\n",
    "    \n",
    "    model_inputs[\"labels\"] = labels[\"input_ids\"]\n",
    "    return model_inputs\n",
    "\n",
    "tokenized_dataset = dataset.map(preprocess_function, batched=True)\n",
    "\n",
    "train_df = tokenized_dataset[\"train\"].to_pandas()\n",
    "\n",
    "train_data, test_data = train_test_split(train_df, test_size=0.2)\n",
    "\n",
    "train_dataset = tokenized_dataset[\"train\"].select(train_data.index.values)\n",
    "test_dataset = tokenized_dataset[\"train\"].select(test_data.index.values)\n",
    "\n",
    "def to_torch_dataset(tokenized_data):\n",
    "    class SummarizationDataset(torch.utils.data.Dataset):\n",
    "        def __init__(self, tokenized_data):\n",
    "            self.input_ids = tokenized_data[\"input_ids\"]\n",
    "            self.attention_mask = tokenized_data[\"attention_mask\"]\n",
    "            self.labels = tokenized_data[\"labels\"]\n",
    "\n",
    "        def __len__(self):\n",
    "            return len(self.input_ids)\n",
    "\n",
    "        def __getitem__(self, idx):\n",
    "            return {\n",
    "                'input_ids': torch.tensor(self.input_ids[idx], dtype=torch.long),\n",
    "                'attention_mask': torch.tensor(self.attention_mask[idx], dtype=torch.long),\n",
    "                'labels': torch.tensor(self.labels[idx], dtype=torch.long)\n",
    "            }\n",
    "    \n",
    "    return SummarizationDataset(tokenized_data)\n",
    "\n",
    "train_torch_dataset = to_torch_dataset(train_dataset)\n",
    "eval_torch_dataset = to_torch_dataset(test_dataset)\n",
    "\n",
    "batch_size = 8\n",
    "train_loader = DataLoader(train_torch_dataset, batch_size=batch_size, shuffle=True)\n",
    "eval_loader = DataLoader(eval_torch_dataset, batch_size=batch_size)\n",
    "\n",
    "print(f\"Train dataset: {len(train_data)} samples\")\n",
    "print(f\"Test dataset: {len(test_data)} samples\")\n",
    "\n",
    "epochs = 3\n",
    "learning_rate = 3e-5\n",
    "\n",
    "from transformers import AdamW, get_linear_schedule_with_warmup\n",
    "\n",
    "optimizer = AdamW(model.parameters(), lr=learning_rate)\n",
    "total_steps = len(train_loader) * epochs\n",
    "scheduler = get_linear_schedule_with_warmup(optimizer, num_warmup_steps=0, num_training_steps=total_steps)\n",
    "\n",
    "def train_epoch(model, data_loader, optimizer, scheduler, device):\n",
    "    model.train()\n",
    "    total_loss = 0\n",
    "    for batch in data_loader:\n",
    "        batch = {k: v.to(device) for k, v in batch.items()}\n",
    "        \n",
    "        optimizer.zero_grad()\n",
    "\n",
    "        outputs = model(**batch)\n",
    "        loss = outputs.loss\n",
    "        total_loss += loss.item()\n",
    "\n",
    "        loss.backward()\n",
    "        optimizer.step()\n",
    "        scheduler.step()\n",
    "    \n",
    "    avg_loss = total_loss / len(data_loader)\n",
    "    return avg_loss\n",
    "\n",
    "def eval_epoch(model, data_loader, device):\n",
    "    model.eval()\n",
    "    total_loss = 0\n",
    "    with torch.no_grad():\n",
    "        for batch in data_loader:\n",
    "            batch = {k: v.to(device) for k, v in batch.items()}\n",
    "            outputs = model(**batch)\n",
    "            loss = outputs.loss\n",
    "            total_loss += loss.item()\n",
    "\n",
    "    avg_loss = total_loss / len(data_loader)\n",
    "    return avg_loss\n",
    "\n",
    "device = torch.device(\"cuda\" if torch.cuda.is_available() else \"cpu\")\n",
    "model.to(device)\n",
    "\n",
    "for epoch in range(epochs):\n",
    "    print(f\"Epoch {epoch + 1}/{epochs}\")\n",
    "\n",
    "    train_loss = train_epoch(model, train_loader, optimizer, scheduler, device)\n",
    "    print(f\"Train Loss: {train_loss}\")\n",
    "\n",
    "    eval_loss = eval_epoch(model, eval_loader, device)\n",
    "    print(f\"Eval Loss: {eval_loss}\")\n",
    "\n",
    "model.save_pretrained(\"./t5-finetuned-indonesian-summarization\")\n",
    "tokenizer.save_pretrained(\"./t5-finetuned-indonesian-summarization\")\n",
    "\n",
    "print(\"Fine-tuning selesai dan model disimpan.\")\n"
   ]
  },
  {
   "cell_type": "code",
   "execution_count": null,
   "metadata": {},
   "outputs": [
    {
     "name": "stdout",
     "output_type": "stream",
     "text": [
      "Android Studio merupakan Lingkungan Pengembangan Terpadu - Integrated Development Environment (IDE) untuk pengembangan aplikasi Android, berdasarkan Intellij IDEA. Selain merupakan editor kode IntelliJ dan alat pengembang yang berdaya guna, Android Studio menawarkan fitur lebih demi meningkatkan produktifitas Anda saat membuat aplikasi Android , misalnya : Template : template memulai project maupun Activity tanpa harus membuatnya dari nol; Intelligent code editor : code completion yang memudahkan untuk menulis kode dengan cepat tanpa harus menuliskan secara lengkap. Untuk mencari tahu tentang versi terbaru, sila klik tautan berikut di iReporter atau klik pautan di bawah untuk mengetahui apa itu Android? anda dapat melihat beberapa hal Android yang ada di dalamnya seperti : Google Play, Facebook, Youtube, Cinderella, Microsoft Word, dan Peta Google. [Google Play] adalah cara termudah bagi para developer untuk mendistribusikan aplikasinya ke pasar dengan miliaran pengguna. Klik link di sini untuk maklumat lanjut mengenai perkembangan Android pada hari ini. Sementara itu, Google telah merilis sebuah fitur bernama Android Studio yang berbasiskan Intelli J IDEA yang memiliki banyak ciri yang tidak asing lagi. Ia juga memiliki berbagai fitur yang bisa digunakan oleh developer sebagai bagian dari proses pembuatan aplikasi. Namun, belum ada kabar kapan fitur tersebut akan dirilis. Buat masa ini, pembangun masih perlu memikirkan apakah fitur baru ini akan siap dipasarkan secepat mungkin. Tetapi jangan ragu untuk mempublikasikan fitur baru sehingga mereka dapat memberikan pengalaman terbaik.\n"
     ]
    }
   ],
   "source": [
    "from transformers import T5Tokenizer, T5ForConditionalGeneration\n",
    "\n",
    "tokenizer = T5Tokenizer.from_pretrained(\"./summarization\")\n",
    "model = T5ForConditionalGeneration.from_pretrained(\"./summarization\")\n",
    "\n",
    "input_text = \"\"\"\n",
    "Pengenalan Android Apa itu Android Android adalah sistem operasi yang dikeluarkan oleh Google. Android dibuat khusus untuk smartphone dan tablet. Berbagai macam produsen telah menggunakan Android sebagai sistem operasi untuk peranti ( device ) yang mereka produksi. Android juga mempunyai  store  dengan lebih dari 2.5 miliar pengguna aktif per bulannya, per Mei 2019  [1] . Mengapa Android Kenapa menggunakan Android? Android memanjakan penggunanya dengan fitur yang sangat canggih dan tampilan yang bagus. Sistem Android dapat digunakan sebagai alat multimedia seperti pemutar musik dan video. Ia juga memiliki perangkat keras seperti  accelerometer ,  gyroscope  dan sensor lainnya. Di samping itu ada beberapa hal yang membuat Android menjadi sistem operasi yang memang layak digunakan oleh pengguna atau dikembangkan para developer, seperti yang akan diuraikan berikut ini. Sistem Operasi Smartphone Terpopuler Pada tahun 2013, Android menjadi  operation system  (OS) terlaris pada tablet dan smartphone. Kini  market share  Android sedikitnya 70 % dari total penjualan smartphone di tingkat global (statista.com)  [2] . Tercatat pada tahun 2016 Android  store  memiliki lebih dari 2.8 juta aplikasi  [3] . Android menarik bagi perusahaan teknologi yang membutuhkan barang siap jadi, biaya rendah dan kustomisasi OS untuk perangkat teknologi tinggi mereka. Hal ini menjadi daya tarik bagi banyak perusahaan, sehingga mereka memilih Android. Source code  dari Android bersifat  open source . Ini adalah hal menarik bagi komunitas developer, karena lisensi  open source  sangat mendukung untuk mengembangkan produknya dengan aman. Store Aplikasi Android bisa didistribusikan menggunakan  web ,  copy APK , dan  store . Android  s tore  , yaitu Google Play, merupakan cara termudah bagi para developer untuk mendistribusikan aplikasinya ke pasar dengan miliaran pengguna. Google play merupakan  store  resmi Android yang dikelola oleh Google. Pengguna bisa mencari dan mengunduh aplikasi yang dikembangkan dengan menggunakan Android Software Development Kit. Google Play tak hanya menawarkan aplikasi. Ada beragam konten lainnya yang dapat dinikmati pengguna, misalnya media digital, musik, buku, majalah, film dan program televisi. Bagaimana para developer memonetisasi aplikasi yang ada di dalam Google Play? Strategi monetisasi aplikasi yang ditawarkan Google Play ada bermacam-macam. Dimulai dari  app  berbayar ( paid distribution ), pembelian dalam aplikasi ( in-app purchase ), langganan ( subscriptions ), dan iklan ( ads ). Tentunya developer harus mengikuti aturan yang ada untuk memastikan bahwa pengguna mendapatkan pengalaman ( user experience)  terbaik. Development Kit untuk Developer Android Software Development Kit (SDK) merupakan  kit  yang bisa digunakan oleh para developer untuk mengembangkan aplikasi berbasis Android. Di dalamnya, terdapat beberapa  tools  seperti  debugger ,  software libraries ,  emulator , dokumentasi,  sample code  dan tutorial. Bahasa pemrograman yang sering digunakan untuk mengembangkan aplikasi Android adalah Java. Namun ada beberapa bahasa lainnya yang dapat digunakan, seperti C++ dan Go. Pada IO 2017 Google juga menetapkan Kotlin sebagai tambahan bahasa resmi  [4] . Berbicara tentang pemrograman tentunya tak lepas dari  Integrated Development Environment  (IDE). Pada 2014 Google mengeluarkan IDE yang bernama Android Studio yang berbasiskan Intellij IDEA. Dengan menggunakan Android Studio, para developer dapat membuat aplikasi dari nol hingga dipublikasikan ke dalam  store . Android Studio juga mempunyai beberapa fitur  built-in  yang sangat membantu para developer untuk memaksimalkan proses pembuatan aplikasi. Fitur-fitur ini misalnya project template, layout editor, debugging, testing, hingga membuat berkas APK. Sejarah Perkembangan Android Berikut adalah rangkaian sejarah perkembangan Android yang resmi diluncurkan oleh Google dari waktu ke waktu. Platform Version Version Code Release date API level Feature Highlight Icon 13 TIRAMISU August 15, 2022 33 Themed app icons Per-app language preferences Photo picker Notification permissions 12 S October 4, 2021 31-32 Material You Widget improvement Approximate location permissions Privacy Dashboard 11 R September 8, 2020 30 Chat Bubbles Screen Recorder Device Control Predictive Tool One-time permission  10 Q September 3, 2019 29 Live Caption Smart Reply Sound Amplifier Dark Theme Privacy & Security Digital Wellbeing 9 P August 6, 2018 28 Adaptive Battery Adaptive Brightness 8.0-8.1 O October 25, 2017 26 - 27 Picture-in-Picture 7.1 - 7.1.2 N August 22, 2016 24 - 25 Multi-window GIF Keyboard 6.0 - 6.0.1 M October 5, 2015 23 Now On Tap Permissions Battery (Doze & App Standby) 5.1 - 5.1.1 LOLLIPOP November 12, 2014 21 - 22 Material Design Multiscreen Notifications 4.4 - 4.4.4 KITKAT October 31, 2013 19 - 20 Voice : Ok Google Immersive Design Smart Dialer 4.1 - 4.3.1 JELLY_BEAN July 9, 2012 16-18 Google Now Actionable Notifications Account Switching 4.0 - 4.6 ICE_CREAM_SANDWICH October 19, 2011 14-15 Custom Home Screen Data Usage Control Android Beam 3.0 - 3.2.6 HONEYCOMB February 22, 2011 11 - 13 Tablet-Friendly Design System Bar Quick Settings 2.3 - 2.3.7 GINGERBREAD February 9, 2011 9 - 10 Gaming APIs NFC Battery Management 2.2 - 2.23 FROYO May 20, 2010 8 Voice Action Portable Hotspot Dalvik JIT 2.0 - 2.1 ECLAIR October 26, 2009 5-7 Google Maps Navigation Home Screen Customization Speech-to-Text 1.6 DONUT September 15, 2009 4 Quick Search Box Screen Size Diversity Android Market 1.5 CUPCAKE April 27, 2009 3 - Saat versi baru Android dirilis, developer hendaknya terus mengikuti  best-practice  terbaru untuk memastikan aplikasi yang dibuat tetap memberikan pengalaman yang terbaik di sebanyak mungkin device. Untuk mencari tahu tentang versi terbaru, Anda dapat melihatnya pada tautan berikut. What is API Level? ART dan DVM Dari tabel sejarah perkembangan di atas dapat kita lihat ada kolom DVM / ART. Kolom ini menunjukkan eksekusi kompilasi ketika menjalankan aplikasi Android. Pada API KitKat dan sebelumnya Android menggunakan DVM (Dalvik Virtual Machine).  DVM  menerapkan pendekatan JIT ( Just-In-Time ), di mana kompilasi dijalankan ketika ada permintaan untuk menjalankan aplikasi. Sedangkan  ART  ( Android Runtime ) menerapkan pendekatan berbeda yaitu AOT ( Ahead-Of-Time ). AOT melakukan kompilasi pada saat proses instalasi aplikasi. Dari versi Lollipop hingga sekarang, Android sepenuhnya mengadopsi ART. Mengapa demikian? DVM menggunakan JIT yang berarti kompilasi dilakukan setiap kali aplikasi dijalankan. Hal ini sangat mempengaruhi kecepatan respon aplikasi. Setiap kali kita menyentuh ikon aplikasi maka kompilasi akan dilakukan. Tentu proses ini menghabiskan CPU dan berimbas pada relatif lebih borosnya penggunaan baterai. Beda dengan DVM, ART melakukan proses kompilasi pada saat proses instalasi. Jadi setiap kali aplikasi dijalankan, sudah tidak ada lagi proses kompilasi. Hal ini meningkatkan performa dalam menjalankan aplikasi. Selain itu karena penggunaan sumber daya CPU bisa dikurangi, pemakaian baterai jadi lebih hemat. Akan tetapi ART membutuhkan  space  (ukuran berkas) yang lebih besar jika dibandingkan dengan DVM. Jika ingin mendalami proses  run-time  yang ada di Android, silakan klik tautan berikut ini:  Android Runtime (ART) and Dalvik  Beberapa bacaan dasar yang dapat menambah wawasan Anda, antara lain:  Apa Itu Android? Android Studio Android Studio adalah Lingkungan Pengembangan Terpadu -  Integrated Development Environment  (IDE) untuk pengembangan aplikasi Android, berdasarkan  IntelliJ IDEA  . Selain merupakan editor kode IntelliJ dan alat pengembang yang berdaya guna, Android Studio menawarkan fitur lebih demi meningkatkan produktifitas Anda saat membuat aplikasi Android, misalnya: Template : template memulai project maupun Activity tanpa harus membuatnya dari nol. Intelligent code editor : code completion yang memudahkan untuk menulis kode dengan cepat tanpa harus menuliskan secara lengkap. Selain itu, juga ada warning apabila terdapat kesalahan penulisan kode. Design tool : digunakan untuk mendesain aplikasi beserta melihat preview secara langsung sebelum dijalankan. Flexible build system : Android Studio menggunakan Gradle yang fleksibel untuk menciptakan build variant yang berbeda untuk berbagai device. Anda juga dapat menganalisa prosesnya secara mendetail. Emulator : menjalankan aplikasi tanpa harus menggunakan device Android. Debugging : memudahkan untuk mencari tahu masalah. Testing : menjalankan pengujian untuk memastikan semua kode aman sebelum rilis. Publish : membuat berkas AAB/APK dan menganalisanya guna dibagikan dan di-publish ke PlayStore. Dilengkapi dengan Instant Run untuk melihat perubahan tanpa harus build project dari awal. Integrasi : Terhubung dengan berbagai layanan yang memudahkan untuk mengembangkan aplikasi, seperti Github, Firebase, dan Google Cloud. Persyaratan Sistem Windows Mac Microsoft® Windows® 8/10 (64-bit) x86_64 CPU architecture; Intel Core 2nd Gen atau lebih, atau AMD CPU dengan support  Windows Hypervisor RAM 8 GB atau lebih Ruang disk minimum yang tersedia 8 GB (IDE + Android SDK + Android Emulator) Resolusi layar minimum 1280 x 800 MacOS® 10.14 (Mojave) atau lebih baru ARM-based chips, atau Intel Core 2nd Gen atau lebih dengan support  Hypervisor.Framework RAM 8 GB atau lebih Ruang disk minimum yang tersedia 8 GB (IDE + Android SDK + Android Emulator) Resolusi layar minimum 1280 x 800 Linux Chrome OS Linux 64-bit yang support GNOME, KDE, atau Unity DE, GNU C Library (glibc) 2.31 atau lebih x86_64 CPU architecture; Intel Core atau lebih 2nd Gen, atau AMD processor dengan support AMD Virtualization (AMD-V) dan SSSE3 RAM 8 GB atau lebih Ruang disk minimum yang tersedia 8 GB (IDE + Android SDK + Android Emulator) Resolusi layar minimum 1280 x 800 Disarankan 8 GB RAM atau lebih Ruang disk minimum yang tersedia 4 GB Resolusi layar minimum 1280 x 800 Disarankan Intel i5 atau lebih (U series atau lebih)  Perangkat yang direkomendasikan bisa dilihat di  chromeos.dev .\n",
    "\"\"\"\n",
    "\n",
    "input_ids = tokenizer.encode(input_text, return_tensors='pt')\n",
    "summary_ids = model.generate(input_ids,\n",
    "            max_length=500,\n",
    "            min_length=300,\n",
    "            num_beams=4,\n",
    "            repetition_penalty=2.0, \n",
    "            length_penalty=0.8,\n",
    "            early_stopping=False,\n",
    "            no_repeat_ngram_size=3, \n",
    "            use_cache=True)\n",
    "\n",
    "summary_text = tokenizer.decode(summary_ids[0], skip_special_tokens=True)\n",
    "print(summary_text)\n",
    "\n"
   ]
  }
 ],
 "metadata": {
  "kernelspec": {
   "display_name": "Python 3",
   "language": "python",
   "name": "python3"
  },
  "language_info": {
   "codemirror_mode": {
    "name": "ipython",
    "version": 3
   },
   "file_extension": ".py",
   "mimetype": "text/x-python",
   "name": "python",
   "nbconvert_exporter": "python",
   "pygments_lexer": "ipython3",
   "version": "3.11.4"
  }
 },
 "nbformat": 4,
 "nbformat_minor": 2
}
